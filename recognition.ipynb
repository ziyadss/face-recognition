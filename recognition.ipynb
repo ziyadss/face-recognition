{
 "cells": [
  {
   "cell_type": "code",
   "execution_count": 43,
   "metadata": {},
   "outputs": [],
   "source": [
    "import numpy as np\n",
    "from sklearn.metrics import accuracy_score\n",
    "from sklearn.svm import SVC\n",
    "\n",
    "from recognition.fisher import FisherRecognizer\n",
    "from recognition.constants import TESTING_PATH, TRAINING_PATH\n",
    "from recognition.helpers import gaborize, prepare_data\n"
   ]
  },
  {
   "cell_type": "code",
   "execution_count": 44,
   "metadata": {},
   "outputs": [],
   "source": [
    "n = 40\n",
    "c = 10\n"
   ]
  },
  {
   "cell_type": "code",
   "execution_count": 45,
   "metadata": {},
   "outputs": [
    {
     "name": "stdout",
     "output_type": "stream",
     "text": [
      "Total faces:  56\n",
      "Total labels:  56\n"
     ]
    }
   ],
   "source": [
    "faces, labels = prepare_data(TRAINING_PATH, n, None, c)\n",
    "\n",
    "print(\"Total faces: \", len(faces))\n",
    "print(\"Total labels: \", len(labels))\n"
   ]
  },
  {
   "cell_type": "code",
   "execution_count": 46,
   "metadata": {},
   "outputs": [
    {
     "name": "stdout",
     "output_type": "stream",
     "text": [
      "Standardizing data...\n",
      "Performing PCA...\n",
      "Performing LDA...\n"
     ]
    }
   ],
   "source": [
    "fisher = FisherRecognizer()\n",
    "fisher.fit(faces, labels)\n"
   ]
  },
  {
   "cell_type": "code",
   "execution_count": 47,
   "metadata": {},
   "outputs": [
    {
     "name": "stdout",
     "output_type": "stream",
     "text": [
      "[6, 6, 5, 5, 4, 4, 1, 1, 3, 3, 2, 2, 0, 0]\n",
      "[6 1 3 5 4 4 1 1 3 3 1 2 0 0]\n",
      "0.7857142857142857\n"
     ]
    }
   ],
   "source": [
    "faces, labels = prepare_data(TESTING_PATH, n)\n",
    "\n",
    "predicted_labels = fisher.predict(faces)\n",
    "\n",
    "print(labels)\n",
    "print(predicted_labels)\n",
    "print(accuracy_score(labels, predicted_labels))\n"
   ]
  },
  {
   "cell_type": "code",
   "execution_count": 48,
   "metadata": {},
   "outputs": [
    {
     "name": "stdout",
     "output_type": "stream",
     "text": [
      "[4, 4, 4, 4, 4, 4, 4, 4, 4, 4, 1, 1, 1, 1, 1, 1, 1, 1, 1, 1, 3, 3, 3, 3, 3, 3, 3, 3, 3, 2, 2, 2, 2, 2, 2, 2, 2, 2, 2, 0, 0, 0, 0, 0, 0, 0, 0, 0, 0]\n",
      "[4 4 4 4 1 3 4 0 4 4 6 1 3 1 1 1 1 1 3 1 3 3 3 3 3 3 3 3 3 2 3 3 2 2 2 2 2\n",
      " 6 2 0 0 1 0 0 0 0 0 0 0]\n",
      "0.7959183673469388\n"
     ]
    }
   ],
   "source": [
    "faces, labels = prepare_data(TRAINING_PATH, n, c, None)\n",
    "\n",
    "predicted_labels = fisher.predict(faces)\n",
    "\n",
    "print(labels)\n",
    "print(predicted_labels)\n",
    "print(accuracy_score(labels, predicted_labels))\n"
   ]
  },
  {
   "cell_type": "code",
   "execution_count": 49,
   "metadata": {},
   "outputs": [
    {
     "name": "stdout",
     "output_type": "stream",
     "text": [
      "0.7936507936507936\n"
     ]
    }
   ],
   "source": [
    "faces1, lables1 = prepare_data(TESTING_PATH, n)\n",
    "faces2, lables2 = prepare_data(TRAINING_PATH, n, c, None)\n",
    "\n",
    "faces = faces1 + faces2\n",
    "labels = lables1 + lables2\n",
    "\n",
    "predicted_labels = fisher.predict(faces)\n",
    "\n",
    "print(accuracy_score(labels, predicted_labels))\n"
   ]
  },
  {
   "attachments": {},
   "cell_type": "markdown",
   "metadata": {},
   "source": [
    "10: 0.79 9: 0.79 8: 0.84 7: 0.62 6: 0.67 5: 0.56"
   ]
  }
 ],
 "metadata": {
  "kernelspec": {
   "display_name": "Python 3",
   "language": "python",
   "name": "python3"
  },
  "language_info": {
   "codemirror_mode": {
    "name": "ipython",
    "version": 3
   },
   "file_extension": ".py",
   "mimetype": "text/x-python",
   "name": "python",
   "nbconvert_exporter": "python",
   "pygments_lexer": "ipython3",
   "version": "3.10.9"
  },
  "orig_nbformat": 4,
  "vscode": {
   "interpreter": {
    "hash": "e7370f93d1d0cde622a1f8e1c04877d8463912d04d973331ad4851f04de6915a"
   }
  }
 },
 "nbformat": 4,
 "nbformat_minor": 2
}
