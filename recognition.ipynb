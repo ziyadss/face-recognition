{
 "cells": [
  {
   "cell_type": "code",
   "execution_count": 1,
   "metadata": {},
   "outputs": [],
   "source": [
    "import numpy as np\n",
    "from sklearn.metrics import accuracy_score\n",
    "from sklearn.svm import SVC\n",
    "\n",
    "from recognition.fisher import fisherfaces\n",
    "from recognition.constants import TESTING_PATH, TRAINING_PATH\n",
    "from recognition.helpers import gaborize, prepare_data\n"
   ]
  },
  {
   "cell_type": "code",
   "execution_count": 2,
   "metadata": {},
   "outputs": [],
   "source": [
    "n = 40\n",
    "l = 5\n"
   ]
  },
  {
   "cell_type": "code",
   "execution_count": 3,
   "metadata": {},
   "outputs": [
    {
     "name": "stdout",
     "output_type": "stream",
     "text": [
      "(33, 1600)\n",
      "Total faces:  33\n",
      "Total labels:  33\n"
     ]
    }
   ],
   "source": [
    "detected_faces, face_labels = prepare_data(TRAINING_PATH, n, l)\n",
    "detected_faces, face_labels = np.array(detected_faces), np.array(face_labels)\n",
    "detected_faces = detected_faces.reshape(detected_faces.shape[0], -1)\n",
    "# detected_faces = gaborize(detected_faces)\n",
    "\n",
    "print(detected_faces.shape)\n",
    "\n",
    "print(\"Total faces: \", len(detected_faces))\n",
    "print(\"Total labels: \", len(face_labels))\n"
   ]
  },
  {
   "cell_type": "code",
   "execution_count": 4,
   "metadata": {},
   "outputs": [],
   "source": [
    "fisher = fisherfaces()\n",
    "fisher.fit(np.array(detected_faces), np.array(face_labels))\n"
   ]
  },
  {
   "cell_type": "code",
   "execution_count": 5,
   "metadata": {},
   "outputs": [
    {
     "name": "stdout",
     "output_type": "stream",
     "text": [
      "(14, 1600)\n"
     ]
    }
   ],
   "source": [
    "faces, lables = prepare_data(TESTING_PATH, n)\n",
    "faces, lables = np.array(faces), np.array(lables)\n",
    "faces = faces.reshape(faces.shape[0], -1)\n",
    "# faces = gaborize(faces)\n",
    "\n",
    "print(faces.shape)\n",
    "\n",
    "predicted_lables = fisher.predict(faces)\n"
   ]
  },
  {
   "cell_type": "code",
   "execution_count": 6,
   "metadata": {},
   "outputs": [
    {
     "name": "stdout",
     "output_type": "stream",
     "text": [
      "[6 6 5 5 4 4 1 1 3 3 2 2 0 0]\n",
      "[6 1 5 5 4 4 1 1 3 3 6 1 3 0]\n",
      "0.7142857142857143\n"
     ]
    }
   ],
   "source": [
    "print(lables)\n",
    "print(predicted_lables)\n",
    "print(accuracy_score(lables, predicted_lables))\n"
   ]
  }
 ],
 "metadata": {
  "kernelspec": {
   "display_name": "Python 3",
   "language": "python",
   "name": "python3"
  },
  "language_info": {
   "codemirror_mode": {
    "name": "ipython",
    "version": 3
   },
   "file_extension": ".py",
   "mimetype": "text/x-python",
   "name": "python",
   "nbconvert_exporter": "python",
   "pygments_lexer": "ipython3",
   "version": "3.10.9"
  },
  "orig_nbformat": 4,
  "vscode": {
   "interpreter": {
    "hash": "e7370f93d1d0cde622a1f8e1c04877d8463912d04d973331ad4851f04de6915a"
   }
  }
 },
 "nbformat": 4,
 "nbformat_minor": 2
}
